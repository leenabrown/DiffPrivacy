{
 "cells": [
  {
   "cell_type": "code",
   "execution_count": 4,
   "metadata": {
    "collapsed": false
   },
   "outputs": [
    {
     "data": {
      "text/html": [
       "<script>\n",
       "  function code_toggle() {\n",
       "    if (code_shown){\n",
       "      $('div.input').hide('500');\n",
       "      $('#toggleButton').val('Show Code')\n",
       "    } else {\n",
       "      $('div.input').show('500');\n",
       "      $('#toggleButton').val('Hide Code')\n",
       "    }\n",
       "    code_shown = !code_shown\n",
       "  }\n",
       "\n",
       "  $( document ).ready(function(){\n",
       "    code_shown=false;\n",
       "    $('div.input').hide()\n",
       "  });\n",
       "</script>\n",
       "<form action=\"javascript:code_toggle()\"><input type=\"submit\" id=\"toggleButton\" value=\"Show Code\"></form>"
      ],
      "text/plain": [
       "<IPython.core.display.HTML object>"
      ]
     },
     "metadata": {},
     "output_type": "display_data"
    }
   ],
   "source": [
    "%%HTML\n",
    "<script>\n",
    "  function code_toggle() {\n",
    "    if (code_shown){\n",
    "      $('div.input').hide('500');\n",
    "      $('#toggleButton').val('Show Code')\n",
    "    } else {\n",
    "      $('div.input').show('500');\n",
    "      $('#toggleButton').val('Hide Code')\n",
    "    }\n",
    "    code_shown = !code_shown\n",
    "  }\n",
    "\n",
    "  $( document ).ready(function(){\n",
    "    code_shown=false;\n",
    "    $('div.input').hide()\n",
    "  });\n",
    "</script>\n",
    "<form action=\"javascript:code_toggle()\"><input type=\"submit\" id=\"toggleButton\" value=\"Show Code\"></form>"
   ]
  },
  {
   "cell_type": "markdown",
   "metadata": {},
   "source": [
    "## Differentially Private PCA\n",
    "---\n",
    "\n",
    "The following tutorial gives one example of how the `dp_pca()` funciton is called. The data samples are randomly drawn i.i.d. from a multivariate Gaussian distribution with a pre-defined mean and covariance matrix. The quality (in terms of the captured energy of the covariance matrix in the reduced dimensional subspace) of the output subspace of the differentially private PCA and non-differentially private PCA is shown as a comparison. \n",
    "\n",
    "The parameters that can be adjusted are:\n",
    "\n",
    "- Epsilon\n",
    "- Sample_size"
   ]
  },
  {
   "cell_type": "code",
   "execution_count": 5,
   "metadata": {
    "collapsed": false
   },
   "outputs": [
    {
     "data": {
      "text/plain": [
       "'Non-private Quality: 26.9546'"
      ]
     },
     "metadata": {},
     "output_type": "display_data"
    },
    {
     "data": {
      "text/plain": [
       "'Differentially Private Quality: 26.9547'"
      ]
     },
     "metadata": {},
     "output_type": "display_data"
    }
   ],
   "source": [
    "from ipywidgets import interact\n",
    "from IPython.display import display\n",
    "\n",
    "# This tutorial gives an example of one way to use the differentially private PCA function\n",
    "# A non-differentially private version of the PCA process will also be run to generate the likeness of the two\n",
    "\n",
    "\n",
    "# This function will be used to randomly generate a data matrix from a multivariate Gaussian distribution\n",
    "def gen_data(Sample_size, k):\n",
    "    \"\"\"\n",
    "    Inputs:\n",
    "            Sample_size: total number of test samples to return in data matrix\n",
    "    Outputs:\n",
    "            trn_data: [trn_size x d]\n",
    "            A: covariance matrix, [d x d]\n",
    "    \"\"\"\n",
    "    \n",
    "    import numpy as np\n",
    "\n",
    "    d = 10                       # features\n",
    "    n = Sample_size              # number of samples to generate for each class\n",
    "\n",
    "    # create covariance matrix\n",
    "    A = np.zeros((d,d))\n",
    "    for i in range(d):\n",
    "        if i < k:\n",
    "            A[i,i] = d - i\n",
    "        else:\n",
    "            A[i, i] = 1\n",
    "\n",
    "    # create mean\n",
    "    mean = np.zeros(d)\n",
    "\n",
    "    # generate n samples\n",
    "    data_ = np.random.multivariate_normal(mean, A, n)    # [nxd]\n",
    "\n",
    "    return data_, A\n",
    "\n",
    "# This function will allow the PCA outputs to be interactive\n",
    "def show_pca_qual(Sample_size, k = 5, Epsilon = 1.0):\n",
    "    import numpy as np\n",
    "    import dp_stats as dps\n",
    "    \n",
    "    # generate the data matrix\n",
    "    data_, A = gen_data(Sample_size, k)    # data_: samples are in rows, A: covariance matrix\n",
    "    \n",
    "    # go through the non-differentially private PCA routine\n",
    "    sigma_control = np.dot(data_.T, data_)     # [d x d] = [d x Sample_size] [Sample_size x d]\n",
    "    U, S, V = np.linalg.svd(sigma_control)\n",
    "    \n",
    "    # grab the first k columns\n",
    "    U_reduc = U[:, :k]\n",
    "    \n",
    "    # find the quality of the PCA control\n",
    "    control_quality = np.trace(np.dot(np.dot(U_reduc.T, A), U_reduc))\n",
    "    \n",
    "    \n",
    "    # go through the differentially private PCA routine\n",
    "    # dp_pca_sn ( data, epsilon=1.0 )  // samples must be in columns\n",
    "    sigma_dp = dps.dp_pca_sn(data_.T, epsilon = Epsilon)\n",
    "    U_dp, S_dp, V_dp = np.linalg.svd(sigma_dp)\n",
    "    \n",
    "    # grab the first k columns\n",
    "    U_dp_reduc = U_dp[:, :k]\n",
    "    \n",
    "    # find the quality of the differentially private PCA method\n",
    "    dp_quality = np.trace(np.dot(np.dot(U_dp_reduc.T, A), U_dp_reduc))\n",
    "    \n",
    "    # output the results\n",
    "    control_txt = \"Non-private Quality: {}\".format(round(control_quality, 4))\n",
    "    display(control_txt)\n",
    "    dp_txt = \"Differentially Private Quality: {}\".format(round(float(dp_quality), 4))\n",
    "    display(dp_txt)\n",
    "\n",
    "interact(show_pca_qual, Sample_size=(50,1000,100), k=(1, 10, 1), Epsilon=(0.01,3.0,0.01))"
   ]
  },
  {
   "cell_type": "code",
   "execution_count": 6,
   "metadata": {
    "collapsed": false
   },
   "outputs": [
    {
     "data": {
      "text/html": [
       "<script>\n",
       "  $(document).ready(function(){\n",
       "    $('div.prompt').hide();\n",
       "    $('div.back-to-top').hide();\n",
       "    $('nav#menubar').hide();\n",
       "    $('.breadcrumb').hide();\n",
       "    $('.hidden-print').hide();\n",
       "  });\n",
       "</script>\n",
       "\n",
       "<footer id=\"attribution\" style=\"float:right; color:#999; background:#fff;\">\n",
       "Created with Jupyter, delivered by Fastly, rendered by Rackspace.\n",
       "</footer>"
      ],
      "text/plain": [
       "<IPython.core.display.HTML object>"
      ]
     },
     "metadata": {},
     "output_type": "display_data"
    }
   ],
   "source": [
    "%%HTML\n",
    "<script>\n",
    "  $(document).ready(function(){\n",
    "    $('div.prompt').hide();\n",
    "    $('div.back-to-top').hide();\n",
    "    $('nav#menubar').hide();\n",
    "    $('.breadcrumb').hide();\n",
    "    $('.hidden-print').hide();\n",
    "  });\n",
    "</script>\n",
    "\n",
    "<footer id=\"attribution\" style=\"float:right; color:#999; background:#fff;\">\n",
    "Created with Jupyter, delivered by Fastly, rendered by Rackspace.\n",
    "</footer>"
   ]
  },
  {
   "cell_type": "code",
   "execution_count": null,
   "metadata": {
    "collapsed": true
   },
   "outputs": [],
   "source": []
  }
 ],
 "metadata": {
  "anaconda-cloud": {},
  "kernelspec": {
   "display_name": "Python [Root]",
   "language": "python",
   "name": "Python [Root]"
  },
  "language_info": {
   "codemirror_mode": {
    "name": "ipython",
    "version": 3
   },
   "file_extension": ".py",
   "mimetype": "text/x-python",
   "name": "python",
   "nbconvert_exporter": "python",
   "pygments_lexer": "ipython3",
   "version": "3.5.2"
  }
 },
 "nbformat": 4,
 "nbformat_minor": 0
}
